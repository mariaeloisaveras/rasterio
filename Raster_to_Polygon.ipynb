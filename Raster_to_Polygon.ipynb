{
 "cells": [
  {
   "cell_type": "code",
   "execution_count": 1,
   "metadata": {},
   "outputs": [],
   "source": [
    "import json, glob\n",
    "import osgeo.ogr as ogr\n",
    "import numpy as np\n",
    "import rasterio as rio\n",
    "import rasterio.features as features\n",
    "import rasterio.warp as warp\n",
    "from shapely.geometry import Polygon\n",
    "from shapely.wkb import loads as wkb_loads\n",
    "from shapely.ops import unary_union, polygonize\n"
   ]
  },
  {
   "cell_type": "code",
   "execution_count": 2,
   "metadata": {},
   "outputs": [
    {
     "data": {
      "text/plain": [
       "['mapbiomas-matogrossodosul-2018-corte.tif']"
      ]
     },
     "execution_count": 2,
     "metadata": {},
     "output_type": "execute_result"
    }
   ],
   "source": [
    "imagens = glob.glob('*.tif')\n",
    "imagens"
   ]
  },
  {
   "cell_type": "code",
   "execution_count": 22,
   "metadata": {},
   "outputs": [],
   "source": [
    "def open_raster(imagens):\n",
    "    crs_affine_all = []\n",
    "    img_crs_all = []\n",
    "    geom_all = {}\n",
    "    \n",
    "    for img in imagens:\n",
    "        \n",
    "        img_open = rio.open(img)\n",
    "        img_arr = img_open.read() # array das img\n",
    "        crs_affine_all.append(img_open.transform) # pega as coordenadas das img\n",
    "        img_crs_all.append(img_open.crs) #pega os crs das img\n",
    "        \n",
    "        name = img.split(\".\")[0]\n",
    "        geom_all[name] = []\n",
    "        names = [name]\n",
    "        \n",
    "        for geom, val in features.shapes(img_arr, transform = img_open.transform):\n",
    "\n",
    "            geom = warp.transform_geom(img_open.crs, 'EPSG:4326', geom, precision=5)\n",
    "            geom_all[name].append(geom)\n",
    "    \n",
    "    return img, crs_affine_all, img_crs_all, geom_all, names\n",
    "\n",
    "img, crs_affine_all, img_crs, geom_all, names = open_raster(imagens)"
   ]
  },
  {
   "cell_type": "code",
   "execution_count": 25,
   "metadata": {},
   "outputs": [],
   "source": [
    "geom_wkb_all = []\n",
    "geom_dict = {}\n",
    "\n",
    "for key,pol in geom_all.items():\n",
    "\n",
    "   \n",
    "    for item in pol:\n",
    "\n",
    "        json_str = json.dumps(item)\n",
    "        ogr_geom = ogr.CreateGeometryFromJson(json_str)\n",
    "        geom_wkb = wkb_loads(ogr_geom.ExportToWkb())\n",
    "        geom_wkb_all.append(geom_wkb)\n",
    "    geom_dict[key] = geom_wkb_all\n",
    "    \n"
   ]
  },
  {
   "cell_type": "code",
   "execution_count": 13,
   "metadata": {},
   "outputs": [],
   "source": [
    "def rasterio_to_shapely(geom_all):\n",
    "    geom_ogr_all = []\n",
    "    \n",
    "    \n",
    "    for key,pol in geom_all.items():\n",
    "        \n",
    "        for item in pol:\n",
    "            \n",
    "            json_str = json.dumps(item)\n",
    "            ogr_geom = ogr.CreateGeometryFromJson(json_str)\n",
    "            geom_ogr = wkb_loads(ogr_geom.ExportToWkb())\n",
    "            geom_ogr_all.append(geom_ogr)\n",
    "            \n",
    "    return geom_ogr, geom_ogr_all, ogr_geom, json_str"
   ]
  },
  {
   "cell_type": "code",
   "execution_count": 15,
   "metadata": {},
   "outputs": [],
   "source": [
    "crs_affine_all, img_crs, geom_all, names = open_raster(imagens)\n",
    "geom_ogr, geom_ogr_all, geom_ogr, json_str = rasterio_to_shapely(geom_all)"
   ]
  },
  {
   "cell_type": "code",
   "execution_count": null,
   "metadata": {},
   "outputs": [],
   "source": [
    "def export_pol_to_shapefile(unions):\n",
    "    \n",
    "    driver_pol = ogr.GetDriverByName(\"ESRI Shapefile\")\n",
    "    data_source_pol = driver_pol.CreateDataSource(\"mapbiomas_polygon.shp\")\n",
    "    \n",
    "#     source_pol = osr.SpatialReference()\n",
    "#     source_pol.ImportFromEPSG(32722)\n",
    "\n",
    "    target_pol = osr.SpatialReference()\n",
    "    target_pol.ImportFromEPSG(4326)\n",
    "    \n",
    "#     ogr_transform_pol = osr.CoordinateTransformation(source_pol, target_pol)\n",
    "\n",
    "\n",
    "    layer = data_source_pol.CreateLayer(\"geom_ogr_all\", target_pol, ogr.wkbMultiPolygon)\n",
    "\n",
    "\n",
    "    field_id = ogr.FieldDefn(\"id\", ogr.OFTInteger)\n",
    "    layer.CreateField(field_id_estr)\n",
    "    \n",
    "    field_bloco_estr = ogr.FieldDefn(\"imagem_name\",ogr.OFTString)\n",
    "    field_bloco_estr.SetWidth(20)\n",
    "    layer.CreateField(field_bloco_estr)\n",
    "\n",
    "    field_area_estr = ogr.FieldDefn(\"area\", ogr.OFTReal)\n",
    "    layer.CreateField(field_area_estr)\n",
    "    \n",
    "    for count, (union_image, nome_bloco) in enumerate():\n",
    "        \n",
    "\n",
    "        geoms_estradas_wkb = union_image.wkb\n",
    "        ogr_geoms_estradas = ogr.CreateGeometryFromWkb(geoms_estradas_wkb)\n",
    "        ogr_geoms_estradas.Transform(ogr_transform_pol)\n",
    "\n",
    "        area = ogr_geoms_estradas.Area()\n",
    "\n",
    "        feature = ogr.Feature(layer.GetLayerDefn())\n",
    "        feature.SetField(\"id_estr\", count+1)\n",
    "        feature.SetField(\"bloco\", nome_bloco)\n",
    "        feature.SetField(\"area\", area)\n",
    "        feature.SetGeometry(ogr_geoms_estradas)\n",
    "        layer.CreateFeature(feature)\n",
    "    \n",
    "    \n",
    "    return layer.SyncToDisk()\n"
   ]
  }
 ],
 "metadata": {
  "kernelspec": {
   "display_name": "Python 3",
   "language": "python",
   "name": "python3"
  },
  "language_info": {
   "codemirror_mode": {
    "name": "ipython",
    "version": 3
   },
   "file_extension": ".py",
   "mimetype": "text/x-python",
   "name": "python",
   "nbconvert_exporter": "python",
   "pygments_lexer": "ipython3",
   "version": "3.8.5"
  }
 },
 "nbformat": 4,
 "nbformat_minor": 4
}
