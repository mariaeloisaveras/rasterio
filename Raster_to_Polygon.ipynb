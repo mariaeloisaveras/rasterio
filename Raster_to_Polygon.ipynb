{
 "cells": [
  {
   "cell_type": "code",
   "execution_count": 1,
   "metadata": {},
   "outputs": [],
   "source": [
    "import json, glob\n",
    "import numpy as np\n",
    "import rasterio as rio\n",
    "import rasterio.features as features\n",
    "import rasterio.warp as warp\n",
    "from osgeo import ogr, osr\n",
    "from shapely.geometry import Polygon\n",
    "from shapely.wkb import loads as wkb_loads\n",
    "from shapely.ops import unary_union, polygonize\n"
   ]
  },
  {
   "cell_type": "code",
   "execution_count": 2,
   "metadata": {},
   "outputs": [],
   "source": [
    "imagens = glob.glob('*.tif')"
   ]
  },
  {
   "cell_type": "code",
   "execution_count": 3,
   "metadata": {},
   "outputs": [],
   "source": [
    "def open_raster(imagens):\n",
    "    crs_affine_all = []\n",
    "    img_crs_all = []\n",
    "    geom_all = {}\n",
    "    \n",
    "    for img in imagens:\n",
    "        \n",
    "        img_open = rio.open(img)\n",
    "        img_arr = img_open.read() \n",
    "        crs_affine_all.append(img_open.transform) \n",
    "        img_crs_all.append(img_open.crs) \n",
    "        \n",
    "        name = img.split(\".\")[0]\n",
    "        geom_all[name] = []\n",
    "        names = [name]\n",
    "        \n",
    "        for geom, val in features.shapes(img_arr, transform = img_open.transform):\n",
    "\n",
    "            geom = warp.transform_geom(img_open.crs, 'EPSG:4326', geom, precision=5)\n",
    "            geom_all[name].append(geom)\n",
    "    \n",
    "    return geom_all, names\n",
    "\n",
    "geom_all, names = open_raster(imagens)"
   ]
  },
  {
   "cell_type": "code",
   "execution_count": 4,
   "metadata": {},
   "outputs": [],
   "source": [
    "def rasterio_to_shapely(geom_all):\n",
    "    geom_ogr_all = []\n",
    "    \n",
    "    \n",
    "    for key,pol in geom_all.items():\n",
    "        \n",
    "        for item in pol:\n",
    "            \n",
    "            json_str = json.dumps(item)\n",
    "            geom_ogr = ogr.CreateGeometryFromJson(json_str)\n",
    "            geom_ogr_all.append(geom_ogr)\n",
    "            \n",
    "    return geom_ogr_all\n",
    "\n",
    "geom_ogr_all = rasterio_to_shapely(geom_all)"
   ]
  },
  {
   "cell_type": "code",
   "execution_count": 5,
   "metadata": {},
   "outputs": [],
   "source": [
    "def export_pol_to_shapefile(geom_ogr_all):\n",
    "    \n",
    "    driver_pol = ogr.GetDriverByName(\"ESRI Shapefile\")\n",
    "    data_source_pol = driver_pol.CreateDataSource(\"mapbiomas_polygon.shp\")\n",
    "\n",
    "\n",
    "    target_pol = osr.SpatialReference()\n",
    "    target_pol.ImportFromEPSG(4326)\n",
    "    \n",
    "\n",
    "    layer = data_source_pol.CreateLayer(\"geom_ogr_all\", target_pol, ogr.wkbMultiPolygon)\n",
    "\n",
    "\n",
    "    field_id = ogr.FieldDefn(\"id\", ogr.OFTInteger)\n",
    "    layer.CreateField(field_id)\n",
    "    \n",
    "    for count, item in enumerate(geom_ogr_all):\n",
    "        \n",
    "\n",
    "        area = item.Area()\n",
    "\n",
    "        feature = ogr.Feature(layer.GetLayerDefn())\n",
    "        feature.SetField(\"id\", count+1)\n",
    "        feature.SetGeometry(item)\n",
    "        layer.CreateFeature(feature)\n",
    "    \n",
    "    \n",
    "    layer.SyncToDisk()\n",
    "    \n",
    "export_pol_to_shapefile(geom_ogr_all)"
   ]
  }
 ],
 "metadata": {
  "kernelspec": {
   "display_name": "Python 3",
   "language": "python",
   "name": "python3"
  },
  "language_info": {
   "codemirror_mode": {
    "name": "ipython",
    "version": 3
   },
   "file_extension": ".py",
   "mimetype": "text/x-python",
   "name": "python",
   "nbconvert_exporter": "python",
   "pygments_lexer": "ipython3",
   "version": "3.8.5"
  }
 },
 "nbformat": 4,
 "nbformat_minor": 4
}
