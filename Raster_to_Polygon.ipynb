{
 "cells": [
  {
   "cell_type": "code",
   "execution_count": 1,
   "metadata": {},
   "outputs": [],
   "source": [
    "import json, glob\n",
    "import osgeo.ogr as ogr\n",
    "import numpy as np\n",
    "import rasterio as rio\n",
    "import rasterio.features as features\n",
    "import rasterio.warp as warp\n",
    "from shapely.geometry import shape, asShape, GeometryCollection, MultiPolygon\n",
    "from shapely.wkb import loads as wkb_loads"
   ]
  },
  {
   "cell_type": "code",
   "execution_count": 2,
   "metadata": {},
   "outputs": [
    {
     "data": {
      "text/plain": [
       "['mapbiomas-matogrossodosul-2018-corte.tif']"
      ]
     },
     "execution_count": 2,
     "metadata": {},
     "output_type": "execute_result"
    }
   ],
   "source": [
    "imagens = glob.glob('*.tif')\n",
    "imagens"
   ]
  },
  {
   "cell_type": "code",
   "execution_count": 3,
   "metadata": {},
   "outputs": [],
   "source": [
    "def open_raster(imagens):\n",
    "    crs_affine_all = []\n",
    "    img_crs_all = []\n",
    "    geom_all = {}\n",
    "    \n",
    "    for img in imagens:\n",
    "        \n",
    "        img_open = rio.open(img)\n",
    "        img_arr = img_open.read() # array das img\n",
    "        crs_affine_all.append(img_open.transform) # pega as coordenadas das img\n",
    "        img_crs_all.append(img_open.crs) #pega os crs das img\n",
    "        \n",
    "        name = img.split(\".\")[0]\n",
    "        geom_all[name] = []\n",
    "        names = [name]\n",
    "        \n",
    "        for geom, val in features.shapes(img_arr, transform = img_open.transform):\n",
    "\n",
    "            geom = warp.transform_geom(img_open.crs, 'EPSG:4326', geom, precision=5)\n",
    "            geom_all[name].append(geom)\n",
    "\n",
    "    return img_open, img_arr, crs_affine_all, img_crs_all, geom_all, names"
   ]
  },
  {
   "cell_type": "code",
   "execution_count": 4,
   "metadata": {},
   "outputs": [],
   "source": [
    "img_open, img_arr, crs_affine_all, img_crs, geom_all, names = open_raster(imagens)"
   ]
  },
  {
   "cell_type": "code",
   "execution_count": null,
   "metadata": {},
   "outputs": [],
   "source": [
    "print(teste)"
   ]
  },
  {
   "cell_type": "code",
   "execution_count": null,
   "metadata": {},
   "outputs": [],
   "source": [
    "json.dumps(geom_all['mapbiomas-matogrossodosul-2018-corte'])"
   ]
  },
  {
   "cell_type": "code",
   "execution_count": null,
   "metadata": {},
   "outputs": [],
   "source": [
    "list(geom_all.keys())[0]"
   ]
  },
  {
   "cell_type": "code",
   "execution_count": null,
   "metadata": {},
   "outputs": [],
   "source": [
    "def rasterio_to_shapely(names, geom_all):\n",
    "    \n",
    "    for img_name, img_geom in names, geom_all:\n",
    "        \n",
    "        json_geom = img_geom[img_name]\n",
    "        json_str = json.dumps(json_geom)\n",
    "\n",
    "        return json_str\n",
    "    \n",
    "#     ogr_geom = ogr.CreateGeometryFromJson(json_str)\n",
    "#     geom_ogr = wkb_loads(ogr_geom.ExportToWkb())\n",
    "#     geom_ogr_all.append(geom)\n",
    "#     print(geom_ogr)"
   ]
  },
  {
   "cell_type": "code",
   "execution_count": null,
   "metadata": {},
   "outputs": [],
   "source": [
    "teste = rasterio_to_shapely(names, geom_all)"
   ]
  },
  {
   "cell_type": "code",
   "execution_count": null,
   "metadata": {},
   "outputs": [],
   "source": [
    "def rasterio_to_shapely(geom_all):\n",
    "    geom_ogr_all = []\n",
    "    \n",
    "    for image in geom_all:\n",
    "        \n",
    "        json_geom = geom_all[i][0]\n",
    "        json_str = json.dumps(json_geom)\n",
    "        ogr_geom = ogr.CreateGeometryFromJson(json_str)\n",
    "        geom_ogr = wkb_loads(ogr_geom.ExportToWkb())\n",
    "        geom_ogr_all.append(geom_ogr)\n",
    "\n",
    "    return geom_ogr_all"
   ]
  },
  {
   "cell_type": "code",
   "execution_count": null,
   "metadata": {},
   "outputs": [],
   "source": [
    "def tif_to_union(raster, crs_affine):\n",
    "    geoms_estradas = []\n",
    "       \n",
    "        \n",
    "#     mask = np.where(raster==1, True, False)\n",
    "    features_shapes = list(features.shapes(raster, transform = crs_affine))\n",
    "\n",
    "    for rasterio_shp in features_shapes:\n",
    "        geoms_estradas.append(rasterio_to_shapely(rasterio_shp))\n",
    "\n",
    "    union = unary_union(geoms_estradas)\n",
    "\n",
    "    return union"
   ]
  },
  {
   "cell_type": "code",
   "execution_count": null,
   "metadata": {},
   "outputs": [],
   "source": [
    "def tiffs_to_geoms(rasters, crs_affine_all):\n",
    "    geoms_estradas = []\n",
    "    \n",
    "    for raster_tiff,img_crs_affine in zip(rasters,crs_affine_all):\n",
    "        \n",
    "        geoms_estradas.append(tif_to_union(raster_tiff, img_crs_affine))\n",
    "        \n",
    "    return geoms_estradas"
   ]
  },
  {
   "cell_type": "code",
   "execution_count": 5,
   "metadata": {},
   "outputs": [],
   "source": [
    "def rasterio_to_shapely(rasterio_shp):\n",
    "    \n",
    "    json_dict = rasterio_shp[0]\n",
    "    json_str = json.dumps(json_dict)\n",
    "    ogr_geom = ogr.CreateGeometryFromJson(json_str)\n",
    "    geom = wkb_loads(ogr_geom.ExportToWkb())\n",
    "\n",
    "    return geom\n",
    "\n",
    "def tif_to_union(raster, img_crs_affine):\n",
    "    geoms_estradas = []\n",
    "       \n",
    "        \n",
    "#     mask = np.where(raster==1, True, False)\n",
    "    features_shapes = list(features.shapes(raster, transform = img_crs_affine))\n",
    "\n",
    "    for rasterio_shp in features_shapes:\n",
    "        geoms_estradas.append(rasterio_to_shapely(rasterio_shp))\n",
    "\n",
    "    union = unary_union(geoms_estradas)\n",
    "\n",
    "    return union\n",
    "\n",
    "def tiffs_to_geoms(rasters, crs_affine_all):\n",
    "    geoms_estradas = []\n",
    "    \n",
    "    for raster_tiff,img_crs_affine in zip(rasters,crs_affine_all):\n",
    "        \n",
    "        geoms_estradas.append(tif_to_union(raster_tiff, img_crs_affine))\n",
    "        \n",
    "    return geoms_estradas"
   ]
  },
  {
   "cell_type": "code",
   "execution_count": null,
   "metadata": {},
   "outputs": [],
   "source": [
    "geoms_estradas = tiffs_to_geoms(estradas_dilate3, crs_affine_all)"
   ]
  },
  {
   "cell_type": "code",
   "execution_count": null,
   "metadata": {},
   "outputs": [],
   "source": []
  },
  {
   "cell_type": "code",
   "execution_count": null,
   "metadata": {},
   "outputs": [],
   "source": []
  },
  {
   "cell_type": "code",
   "execution_count": null,
   "metadata": {},
   "outputs": [],
   "source": [
    "def export_pol_to_shapefile(unions):\n",
    "    \n",
    "    driver_pol = ogr.GetDriverByName(\"ESRI Shapefile\")\n",
    "    data_source_pol = driver_pol.CreateDataSource(\"mapbiomas_polygon.shp\")\n",
    "    \n",
    "    source_pol = osr.SpatialReference()\n",
    "    source_pol.ImportFromEPSG(32722)\n",
    "\n",
    "    target_pol = osr.SpatialReference()\n",
    "    target_pol.ImportFromEPSG(31982)\n",
    "    \n",
    "    ogr_transform_pol = osr.CoordinateTransformation(source_pol, target_pol)\n",
    "\n",
    "\n",
    "    layer = data_source_pol.CreateLayer(\"geom_polygon\", target_pol, ogr.wkbMultiPolygon)\n",
    "\n",
    "\n",
    "    field_id_estr = ogr.FieldDefn(\"id_estr\", ogr.OFTInteger)\n",
    "    layer.CreateField(field_id_estr)\n",
    "    \n",
    "    field_bloco_estr = ogr.FieldDefn(\"bloco\",ogr.OFTString)\n",
    "    field_bloco_estr.SetWidth(20)\n",
    "    layer.CreateField(field_bloco_estr)\n",
    "\n",
    "    field_area_estr = ogr.FieldDefn(\"area\", ogr.OFTReal)\n",
    "    layer.CreateField(field_area_estr)\n",
    "    \n",
    "    for count, (union_image, nome_bloco) in enumerate(zip(unions, id_images['bloco_id_intersect'])):\n",
    "        \n",
    "\n",
    "        geoms_estradas_wkb = union_image.wkb\n",
    "        ogr_geoms_estradas = ogr.CreateGeometryFromWkb(geoms_estradas_wkb)\n",
    "        ogr_geoms_estradas.Transform(ogr_transform_pol)\n",
    "\n",
    "        area = ogr_geoms_estradas.Area()\n",
    "\n",
    "        feature = ogr.Feature(layer.GetLayerDefn())\n",
    "        feature.SetField(\"id_estr\", count+1)\n",
    "        feature.SetField(\"bloco\", nome_bloco)\n",
    "        feature.SetField(\"area\", area)\n",
    "        feature.SetGeometry(ogr_geoms_estradas)\n",
    "        layer.CreateFeature(feature)\n",
    "    \n",
    "    \n",
    "    return layer.SyncToDisk()\n"
   ]
  }
 ],
 "metadata": {
  "kernelspec": {
   "display_name": "Python 3",
   "language": "python",
   "name": "python3"
  },
  "language_info": {
   "codemirror_mode": {
    "name": "ipython",
    "version": 3
   },
   "file_extension": ".py",
   "mimetype": "text/x-python",
   "name": "python",
   "nbconvert_exporter": "python",
   "pygments_lexer": "ipython3",
   "version": "3.8.5"
  }
 },
 "nbformat": 4,
 "nbformat_minor": 4
}
